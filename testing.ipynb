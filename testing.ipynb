{
 "cells": [
  {
   "cell_type": "code",
   "execution_count": 6,
   "metadata": {},
   "outputs": [
    {
     "name": "stderr",
     "output_type": "stream",
     "text": [
      "\u001b[34m\u001b[1mval: \u001b[0mdata=data.yaml, weights=['last_last.pt'], batch_size=32, imgsz=640, conf_thres=0.001, iou_thres=0.6, max_det=300, task=val, device=, workers=8, single_cls=False, augment=False, verbose=False, save_txt=False, save_hybrid=False, save_conf=False, save_json=False, project=yolov5\\runs\\val, name=exp, exist_ok=False, half=False, dnn=False\n",
      "git: 'RCNN\\YOLO\\yolov5' is not a git command. See 'git --help'.\n",
      "YOLOv5  2023-5-5 Python-3.9.4 torch-2.0.0+cpu CPU\n",
      "\n",
      "Fusing layers... \n",
      "YOLOv5s summary: 157 layers, 7064065 parameters, 0 gradients, 15.9 GFLOPs\n",
      "\n",
      "\u001b[34m\u001b[1mval: \u001b[0mScanning C:\\python\\projects\\Upwork-Projects\\Sara RCNN\\YOLO\\data\\validation\\labels...:   0%|          | 0/337 [00:00<?, ?it/s]\n",
      "\u001b[34m\u001b[1mval: \u001b[0mScanning C:\\python\\projects\\Upwork-Projects\\Sara RCNN\\YOLO\\data\\validation\\labels... 1 images, 0 backgrounds, 0 corrupt:   0%|          | 1/337 [00:06<37:11,  6.64s/it]\n",
      "\u001b[34m\u001b[1mval: \u001b[0mScanning C:\\python\\projects\\Upwork-Projects\\Sara RCNN\\YOLO\\data\\validation\\labels... 13 images, 0 backgrounds, 0 corrupt:   4%|▍         | 13/337 [00:06<02:01,  2.67it/s]\n",
      "\u001b[34m\u001b[1mval: \u001b[0mScanning C:\\python\\projects\\Upwork-Projects\\Sara RCNN\\YOLO\\data\\validation\\labels... 28 images, 0 backgrounds, 0 corrupt:   8%|▊         | 28/337 [00:06<00:44,  6.97it/s]\n",
      "\u001b[34m\u001b[1mval: \u001b[0mScanning C:\\python\\projects\\Upwork-Projects\\Sara RCNN\\YOLO\\data\\validation\\labels... 101 images, 0 backgrounds, 0 corrupt:  30%|██▉       | 101/337 [00:06<00:06, 35.86it/s]\n",
      "\u001b[34m\u001b[1mval: \u001b[0mScanning C:\\python\\projects\\Upwork-Projects\\Sara RCNN\\YOLO\\data\\validation\\labels... 198 images, 0 backgrounds, 0 corrupt:  59%|█████▉    | 198/337 [00:07<00:01, 86.26it/s]\n",
      "\u001b[34m\u001b[1mval: \u001b[0mScanning C:\\python\\projects\\Upwork-Projects\\Sara RCNN\\YOLO\\data\\validation\\labels... 310 images, 0 backgrounds, 0 corrupt:  92%|█████████▏| 310/337 [00:07<00:00, 160.09it/s]\n",
      "\u001b[34m\u001b[1mval: \u001b[0mScanning C:\\python\\projects\\Upwork-Projects\\Sara RCNN\\YOLO\\data\\validation\\labels... 337 images, 0 backgrounds, 0 corrupt: 100%|██████████| 337/337 [00:07<00:00, 46.98it/s] \n",
      "\u001b[34m\u001b[1mval: \u001b[0mNew cache created: C:\\python\\projects\\Upwork-Projects\\Sara RCNN\\YOLO\\data\\validation\\labels.cache\n",
      "\n",
      "                 Class     Images  Instances          P          R      mAP50   mAP50-95:   0%|          | 0/11 [00:00<?, ?it/s]\n",
      "                 Class     Images  Instances          P          R      mAP50   mAP50-95:   0%|          | 0/11 [00:06<?, ?it/s]\n",
      "Traceback (most recent call last):\n",
      "  File \"c:\\Users\\LAPTOP WORLD\\AppData\\Local\\Programs\\Python\\Python39\\lib\\site-packages\\torch\\utils\\data\\dataloader.py\", line 1133, in _try_get_data\n",
      "    data = self._data_queue.get(timeout=timeout)\n",
      "  File \"c:\\Users\\LAPTOP WORLD\\AppData\\Local\\Programs\\Python\\Python39\\lib\\multiprocessing\\queues.py\", line 114, in get\n",
      "    raise Empty\n",
      "_queue.Empty\n",
      "\n",
      "The above exception was the direct cause of the following exception:\n",
      "\n",
      "Traceback (most recent call last):\n",
      "  File \"c:\\python\\projects\\Upwork-Projects\\Sara RCNN\\YOLO\\yolov5\\val.py\", line 409, in <module>\n",
      "    main(opt)\n",
      "  File \"c:\\python\\projects\\Upwork-Projects\\Sara RCNN\\YOLO\\yolov5\\val.py\", line 380, in main\n",
      "    run(**vars(opt))\n",
      "  File \"c:\\Users\\LAPTOP WORLD\\AppData\\Local\\Programs\\Python\\Python39\\lib\\site-packages\\torch\\utils\\_contextlib.py\", line 115, in decorate_context\n",
      "    return func(*args, **kwargs)\n",
      "  File \"c:\\python\\projects\\Upwork-Projects\\Sara RCNN\\YOLO\\yolov5\\val.py\", line 198, in run\n",
      "    for batch_i, (im, targets, paths, shapes) in enumerate(pbar):\n",
      "  File \"c:\\Users\\LAPTOP WORLD\\AppData\\Local\\Programs\\Python\\Python39\\lib\\site-packages\\tqdm\\std.py\", line 1178, in __iter__\n",
      "    for obj in iterable:\n",
      "  File \"c:\\python\\projects\\Upwork-Projects\\Sara RCNN\\YOLO\\yolov5\\utils\\dataloaders.py\", line 172, in __iter__\n",
      "    yield next(self.iterator)\n",
      "  File \"c:\\Users\\LAPTOP WORLD\\AppData\\Local\\Programs\\Python\\Python39\\lib\\site-packages\\torch\\utils\\data\\dataloader.py\", line 634, in __next__\n",
      "    data = self._next_data()\n",
      "  File \"c:\\Users\\LAPTOP WORLD\\AppData\\Local\\Programs\\Python\\Python39\\lib\\site-packages\\torch\\utils\\data\\dataloader.py\", line 1329, in _next_data\n",
      "    idx, data = self._get_data()\n",
      "  File \"c:\\Users\\LAPTOP WORLD\\AppData\\Local\\Programs\\Python\\Python39\\lib\\site-packages\\torch\\utils\\data\\dataloader.py\", line 1295, in _get_data\n",
      "    success, data = self._try_get_data()\n",
      "  File \"c:\\Users\\LAPTOP WORLD\\AppData\\Local\\Programs\\Python\\Python39\\lib\\site-packages\\torch\\utils\\data\\dataloader.py\", line 1146, in _try_get_data\n",
      "    raise RuntimeError('DataLoader worker (pid(s) {}) exited unexpectedly'.format(pids_str)) from e\n",
      "RuntimeError: DataLoader worker (pid(s) 25340) exited unexpectedly\n"
     ]
    }
   ],
   "source": [
    "!python yolov5/val.py --data data.yaml --weights last_last.pt"
   ]
  },
  {
   "attachments": {},
   "cell_type": "markdown",
   "metadata": {},
   "source": [
    "![](confusion_matrix.png)"
   ]
  },
  {
   "attachments": {},
   "cell_type": "markdown",
   "metadata": {},
   "source": [
    "![](F1_curve.png)"
   ]
  },
  {
   "attachments": {},
   "cell_type": "markdown",
   "metadata": {},
   "source": [
    "![](val_batch0_pred.jpg)"
   ]
  },
  {
   "attachments": {},
   "cell_type": "markdown",
   "metadata": {},
   "source": [
    "![](val_batch1_pred.jpg)"
   ]
  },
  {
   "attachments": {},
   "cell_type": "markdown",
   "metadata": {},
   "source": [
    "[](val_batch1_pred.jpg)"
   ]
  }
 ],
 "metadata": {
  "kernelspec": {
   "display_name": "Python 3",
   "language": "python",
   "name": "python3"
  },
  "language_info": {
   "codemirror_mode": {
    "name": "ipython",
    "version": 3
   },
   "file_extension": ".py",
   "mimetype": "text/x-python",
   "name": "python",
   "nbconvert_exporter": "python",
   "pygments_lexer": "ipython3",
   "version": "3.9.4"
  },
  "orig_nbformat": 4
 },
 "nbformat": 4,
 "nbformat_minor": 2
}
